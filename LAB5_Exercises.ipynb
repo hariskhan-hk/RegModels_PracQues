{
  "nbformat": 4,
  "nbformat_minor": 0,
  "metadata": {
    "colab": {
      "provenance": [],
      "authorship_tag": "ABX9TyNQ6EA83r3G9Uc2AiBBadcx",
      "include_colab_link": true
    },
    "kernelspec": {
      "name": "python3",
      "display_name": "Python 3"
    },
    "language_info": {
      "name": "python"
    }
  },
  "cells": [
    {
      "cell_type": "markdown",
      "metadata": {
        "id": "view-in-github",
        "colab_type": "text"
      },
      "source": [
        "<a href=\"https://colab.research.google.com/github/hariskhan-hk/RegModels_PracQues/blob/main/LAB5_Exercises.ipynb\" target=\"_parent\"><img src=\"https://colab.research.google.com/assets/colab-badge.svg\" alt=\"Open In Colab\"/></a>"
      ]
    },
    {
      "cell_type": "code",
      "execution_count": 95,
      "metadata": {
        "id": "qbmjqZZOnCse"
      },
      "outputs": [],
      "source": [
        "import numpy as np\n",
        "import pandas as pd\n",
        "from sklearn.linear_model import LinearRegression\n",
        "from sklearn.neighbors import KNeighborsRegressor\n",
        "from sklearn.model_selection import train_test_split"
      ]
    },
    {
      "cell_type": "code",
      "source": [
        "pip install mglearn"
      ],
      "metadata": {
        "colab": {
          "base_uri": "https://localhost:8080/"
        },
        "id": "BrTKOYVNnHUC",
        "outputId": "ab52a35d-4375-41e1-ff5b-85b071fc9507"
      },
      "execution_count": 96,
      "outputs": [
        {
          "output_type": "stream",
          "name": "stdout",
          "text": [
            "Requirement already satisfied: mglearn in /usr/local/lib/python3.10/dist-packages (0.2.0)\n",
            "Requirement already satisfied: numpy in /usr/local/lib/python3.10/dist-packages (from mglearn) (1.25.2)\n",
            "Requirement already satisfied: matplotlib in /usr/local/lib/python3.10/dist-packages (from mglearn) (3.7.1)\n",
            "Requirement already satisfied: scikit-learn in /usr/local/lib/python3.10/dist-packages (from mglearn) (1.2.2)\n",
            "Requirement already satisfied: pandas in /usr/local/lib/python3.10/dist-packages (from mglearn) (2.0.3)\n",
            "Requirement already satisfied: pillow in /usr/local/lib/python3.10/dist-packages (from mglearn) (9.4.0)\n",
            "Requirement already satisfied: cycler in /usr/local/lib/python3.10/dist-packages (from mglearn) (0.12.1)\n",
            "Requirement already satisfied: imageio in /usr/local/lib/python3.10/dist-packages (from mglearn) (2.31.6)\n",
            "Requirement already satisfied: joblib in /usr/local/lib/python3.10/dist-packages (from mglearn) (1.4.2)\n",
            "Requirement already satisfied: contourpy>=1.0.1 in /usr/local/lib/python3.10/dist-packages (from matplotlib->mglearn) (1.2.1)\n",
            "Requirement already satisfied: fonttools>=4.22.0 in /usr/local/lib/python3.10/dist-packages (from matplotlib->mglearn) (4.53.0)\n",
            "Requirement already satisfied: kiwisolver>=1.0.1 in /usr/local/lib/python3.10/dist-packages (from matplotlib->mglearn) (1.4.5)\n",
            "Requirement already satisfied: packaging>=20.0 in /usr/local/lib/python3.10/dist-packages (from matplotlib->mglearn) (24.0)\n",
            "Requirement already satisfied: pyparsing>=2.3.1 in /usr/local/lib/python3.10/dist-packages (from matplotlib->mglearn) (3.1.2)\n",
            "Requirement already satisfied: python-dateutil>=2.7 in /usr/local/lib/python3.10/dist-packages (from matplotlib->mglearn) (2.8.2)\n",
            "Requirement already satisfied: pytz>=2020.1 in /usr/local/lib/python3.10/dist-packages (from pandas->mglearn) (2023.4)\n",
            "Requirement already satisfied: tzdata>=2022.1 in /usr/local/lib/python3.10/dist-packages (from pandas->mglearn) (2024.1)\n",
            "Requirement already satisfied: scipy>=1.3.2 in /usr/local/lib/python3.10/dist-packages (from scikit-learn->mglearn) (1.11.4)\n",
            "Requirement already satisfied: threadpoolctl>=2.0.0 in /usr/local/lib/python3.10/dist-packages (from scikit-learn->mglearn) (3.5.0)\n",
            "Requirement already satisfied: six>=1.5 in /usr/local/lib/python3.10/dist-packages (from python-dateutil>=2.7->matplotlib->mglearn) (1.16.0)\n"
          ]
        }
      ]
    },
    {
      "cell_type": "code",
      "source": [
        "#Question No 02 - Compute the mean relative error of actual and predicted dependent variable using the following formula. Write the code and output.\n",
        "# Formula: 𝑀𝑒𝑎𝑛 𝑅𝑒𝑙𝑎𝑡𝑖𝑣𝑒 𝐸𝑟𝑟𝑜𝑟 =1/N ∑ |𝑃𝑟𝑒𝑑𝑖𝑐𝑡𝑒𝑑 − 𝐴𝑐𝑡𝑢𝑎𝑙|/Actual\n",
        "\n",
        "import numpy as np\n",
        "\n",
        "from sklearn.linear_model import LinearRegression\n",
        "from sklearn.model_selection import train_test_split\n",
        "\n",
        "df = pd.read_csv('/content/sample_data/california_housing_train.csv')\n",
        "\n",
        "X = df[['total_rooms']]\n",
        "y = df['total_bedrooms']\n",
        "X_train, X_test, y_train, y_test = train_test_split(X,y, random_state = 42)\n",
        "lin = LinearRegression().fit(X_train,y_train)\n",
        "y_pred = lin.predict(X_test)\n",
        "print(f'Predict Lin: {np.round((y_pred),3)}')\n",
        "\n",
        "def mean_relative_error(y_test,y_pred):\n",
        "  a = np.mean(abs(y_pred - y_test)/y_test)\n",
        "  return a\n",
        "\n",
        "print('Mean Relative Error:', mean_relative_error(y_test,y_pred))"
      ],
      "metadata": {
        "colab": {
          "base_uri": "https://localhost:8080/"
        },
        "id": "ethT7fbysu7a",
        "outputId": "71d7b067-4298-43fa-c72a-6201efc9dc33"
      },
      "execution_count": 97,
      "outputs": [
        {
          "output_type": "stream",
          "name": "stdout",
          "text": [
            "Predict Lin: [936.74  558.314 732.181 ... 154.972 660.503 400.335]\n",
            "Mean Relative Error: 0.2517687090335994\n"
          ]
        }
      ]
    },
    {
      "cell_type": "code",
      "source": [
        "#Question No 03 - Compare the linear and kNN regressions on the basis of 𝑅2 and mean relative error for wave and California datasets\n",
        "\n",
        "from sklearn.linear_model import LinearRegression\n",
        "from sklearn.neighbors import KNeighborsRegressor\n",
        "from sklearn.model_selection import train_test_split\n",
        "import mglearn\n",
        "\n",
        "\n",
        "# Function for Mean Relative Error\n",
        "def mean_relative_error(y_test,y_pred):\n",
        "  a = np.mean(abs(y_pred - y_test)/y_test)\n",
        "  return a\n",
        "\n",
        "#USING WAVES DATASET\n",
        "\n",
        "#Linear Regression\n",
        "X, y = mglearn.datasets.make_wave(n_samples = 40)\n",
        "X_train, X_test, y_train, y_test = train_test_split(X,y, random_state=42)\n",
        "\n",
        "LR1 = LinearRegression().fit(X_train, y_train)\n",
        "LR1_pred = LR1.predict(X_test)\n",
        "print('WAVES DATASET')\n",
        "print('\\nLINEAR REGRESSION:')\n",
        "print(f'\\nPredicted LR1: {np.round(LR1_pred,3)}')\n",
        "print(f'LR1 R2: {LR1.score(X_test,y_test)}')\n",
        "print(f'LR1 MRE: {mean_relative_error(y_test,LR1_pred)}')\n",
        "\n",
        "#K Neighbors Regression\n",
        "KNR1 = KNeighborsRegressor(n_neighbors = 3).fit(X_train, y_train)\n",
        "KNR1_pred = KNR1.predict(X_test)\n",
        "\n",
        "print('\\nK NEIGHBORS REGRESSION:')\n",
        "print(f'\\nPredicted KNR1: {np.round(KNR1_pred,3)}')\n",
        "print(f'KNR1 R2:{KNR1.score(X_test,y_test)}')\n",
        "print(f'KNR1 MRE: {mean_relative_error(y_test,KNR1_pred)}')\n",
        "\n",
        "\n",
        "#USING CALIFORNIA DATASET\n",
        "\n",
        "df = pd.read_csv('/content/sample_data/california_housing_train.csv')\n",
        "\n",
        "X = df[['total_rooms']]\n",
        "y = df['total_bedrooms']\n",
        "X_train, X_test, y_train, y_test = train_test_split(X,y, random_state=42)\n",
        "\n",
        "#Linear Regression\n",
        "LR2 = LinearRegression().fit(X_train, y_train)\n",
        "LR2_pred = LR2.predict(X_test)\n",
        "\n",
        "print('\\nCALIFORNIA DATASET')\n",
        "print('\\nLINEAR REGRESSION:')\n",
        "print(f'\\nPredicted LR2: {np.round(LR2_pred,3)}')\n",
        "print(f'LR2 R2: {LR2.score(X_test,y_test)}')\n",
        "print(f'LR2 MRE: {mean_relative_error(y_test,LR2_pred)}')\n",
        "\n",
        "#K Neighbors Regression\n",
        "KNR2 = KNeighborsRegressor(n_neighbors = 3).fit(X_train, y_train)\n",
        "KNR2_pred = KNR2.predict(X_test)\n",
        "\n",
        "print('\\nK NEIGHBORS REGRESSION:')\n",
        "print(f'\\nPredicted KNR2: {np.round(KNR1_pred,3)}')\n",
        "print(f'KNR2 R2:{KNR2.score(X_test,y_test)}')\n",
        "print(f'KNR2 MRE: {mean_relative_error(y_test,KNR2_pred)}')\n"
      ],
      "metadata": {
        "colab": {
          "base_uri": "https://localhost:8080/"
        },
        "id": "TOis5hUmvP-H",
        "outputId": "b2e0aa0f-6a7a-4c71-d8f0-8ef193d819bb"
      },
      "execution_count": 98,
      "outputs": [
        {
          "output_type": "stream",
          "name": "stdout",
          "text": [
            "WAVES DATASET\n",
            "\n",
            "LINEAR REGRESSION:\n",
            "\n",
            "Predicted LR1: [-0.699 -0.662 -1.009 -0.963 -1.088  0.858 -1.256 -0.058 -0.271 -1.37 ]\n",
            "LR1 R2: 0.7734719621006005\n",
            "LR1 MRE: 1.2183431897516208\n",
            "\n",
            "K NEIGHBORS REGRESSION:\n",
            "\n",
            "Predicted KNR1: [ 0.188  0.188 -2.077 -1.758 -1.894  1.446 -0.852 -0.359 -0.659 -0.83 ]\n",
            "KNR1 R2:0.2437997515208531\n",
            "KNR1 MRE: 0.7051265827689488\n",
            "\n",
            "CALIFORNIA DATASET\n",
            "\n",
            "LINEAR REGRESSION:\n",
            "\n",
            "Predicted LR2: [936.74  558.314 732.181 ... 154.972 660.503 400.335]\n",
            "LR2 R2: 0.8582656216645482\n",
            "LR2 MRE: 0.2517687090335994\n",
            "\n",
            "K NEIGHBORS REGRESSION:\n",
            "\n",
            "Predicted KNR2: [ 0.188  0.188 -2.077 -1.758 -1.894  1.446 -0.852 -0.359 -0.659 -0.83 ]\n",
            "KNR2 R2:0.8136768734959469\n",
            "KNR2 MRE: 0.2215463195077452\n"
          ]
        }
      ]
    },
    {
      "cell_type": "markdown",
      "source": [
        "Question No 4 - Differentiate between generalization, overfitting,and underfitting.\n",
        "\n",
        "**Generalization**\n",
        "\n",
        "Definition: Ability of a model to perform well on new, unseen data.\n",
        "\n",
        "Goal: Capture underlying patterns in data to make accurate predictions on real-world data.\n",
        "\n",
        "**Overfitting**\n",
        "\n",
        "Definition: Model performs well on training data but poorly on unseen data.\n",
        "\n",
        "Cause: Model is too complex, capturing noise and outliers.\n",
        "\n",
        "Indicators: High training accuracy, low validation/test accuracy.\n",
        "\n",
        "Solution: Simplify the model, use regularization, cross-validation, more training data.\n",
        "\n",
        "**Underfitting**\n",
        "\n",
        "Definition: Model performs poorly on both training and unseen data.\n",
        "\n",
        "Cause: Model is too simple, failing to capture underlying patterns.\n",
        "\n",
        "Indicators: Low training and validation/test accuracy.\n",
        "\n",
        "Solution: Use a more complex model, better feature engineering, parameter tuning."
      ],
      "metadata": {
        "id": "3lNSqEC2xOaY"
      }
    },
    {
      "cell_type": "code",
      "source": [
        "#Question No 05 - Analyze the kNN regression with k=1, 3, and 9 for wave and California datasets.\n",
        "\n"
      ],
      "metadata": {
        "id": "ru8UPbxpzEqq"
      },
      "execution_count": 99,
      "outputs": []
    },
    {
      "cell_type": "code",
      "source": [],
      "metadata": {
        "id": "ErTSIIYDzcMl"
      },
      "execution_count": 99,
      "outputs": []
    }
  ]
}