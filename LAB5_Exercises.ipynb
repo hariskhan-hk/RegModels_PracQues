{
  "nbformat": 4,
  "nbformat_minor": 0,
  "metadata": {
    "colab": {
      "provenance": [],
      "authorship_tag": "ABX9TyOMonjULMBPnOfeoEqRcteq",
      "include_colab_link": true
    },
    "kernelspec": {
      "name": "python3",
      "display_name": "Python 3"
    },
    "language_info": {
      "name": "python"
    }
  },
  "cells": [
    {
      "cell_type": "markdown",
      "metadata": {
        "id": "view-in-github",
        "colab_type": "text"
      },
      "source": [
        "<a href=\"https://colab.research.google.com/github/hariskhan-hk/RegModels_PracQues/blob/main/LAB5_Exercises.ipynb\" target=\"_parent\"><img src=\"https://colab.research.google.com/assets/colab-badge.svg\" alt=\"Open In Colab\"/></a>"
      ]
    },
    {
      "cell_type": "code",
      "execution_count": 1,
      "metadata": {
        "id": "qbmjqZZOnCse"
      },
      "outputs": [],
      "source": [
        "import numpy as np\n",
        "import pandas as pd\n",
        "from sklearn.linear_model import LinearRegression\n",
        "from sklearn.neighbors import KNeighborsRegressor\n",
        "from sklearn.model_selection import train_test_split"
      ]
    },
    {
      "cell_type": "code",
      "source": [
        "pip install mglearn"
      ],
      "metadata": {
        "colab": {
          "base_uri": "https://localhost:8080/"
        },
        "id": "BrTKOYVNnHUC",
        "outputId": "c9142ede-4fb8-4897-f4a0-2d30847fa383"
      },
      "execution_count": 2,
      "outputs": [
        {
          "output_type": "stream",
          "name": "stdout",
          "text": [
            "Collecting mglearn\n",
            "  Downloading mglearn-0.2.0-py2.py3-none-any.whl (581 kB)\n",
            "\u001b[2K     \u001b[90m━━━━━━━━━━━━━━━━━━━━━━━━━━━━━━━━━━━━━━━━\u001b[0m \u001b[32m581.4/581.4 kB\u001b[0m \u001b[31m3.9 MB/s\u001b[0m eta \u001b[36m0:00:00\u001b[0m\n",
            "\u001b[?25hRequirement already satisfied: numpy in /usr/local/lib/python3.10/dist-packages (from mglearn) (1.25.2)\n",
            "Requirement already satisfied: matplotlib in /usr/local/lib/python3.10/dist-packages (from mglearn) (3.7.1)\n",
            "Requirement already satisfied: scikit-learn in /usr/local/lib/python3.10/dist-packages (from mglearn) (1.2.2)\n",
            "Requirement already satisfied: pandas in /usr/local/lib/python3.10/dist-packages (from mglearn) (2.0.3)\n",
            "Requirement already satisfied: pillow in /usr/local/lib/python3.10/dist-packages (from mglearn) (9.4.0)\n",
            "Requirement already satisfied: cycler in /usr/local/lib/python3.10/dist-packages (from mglearn) (0.12.1)\n",
            "Requirement already satisfied: imageio in /usr/local/lib/python3.10/dist-packages (from mglearn) (2.31.6)\n",
            "Requirement already satisfied: joblib in /usr/local/lib/python3.10/dist-packages (from mglearn) (1.4.2)\n",
            "Requirement already satisfied: contourpy>=1.0.1 in /usr/local/lib/python3.10/dist-packages (from matplotlib->mglearn) (1.2.1)\n",
            "Requirement already satisfied: fonttools>=4.22.0 in /usr/local/lib/python3.10/dist-packages (from matplotlib->mglearn) (4.53.0)\n",
            "Requirement already satisfied: kiwisolver>=1.0.1 in /usr/local/lib/python3.10/dist-packages (from matplotlib->mglearn) (1.4.5)\n",
            "Requirement already satisfied: packaging>=20.0 in /usr/local/lib/python3.10/dist-packages (from matplotlib->mglearn) (24.0)\n",
            "Requirement already satisfied: pyparsing>=2.3.1 in /usr/local/lib/python3.10/dist-packages (from matplotlib->mglearn) (3.1.2)\n",
            "Requirement already satisfied: python-dateutil>=2.7 in /usr/local/lib/python3.10/dist-packages (from matplotlib->mglearn) (2.8.2)\n",
            "Requirement already satisfied: pytz>=2020.1 in /usr/local/lib/python3.10/dist-packages (from pandas->mglearn) (2023.4)\n",
            "Requirement already satisfied: tzdata>=2022.1 in /usr/local/lib/python3.10/dist-packages (from pandas->mglearn) (2024.1)\n",
            "Requirement already satisfied: scipy>=1.3.2 in /usr/local/lib/python3.10/dist-packages (from scikit-learn->mglearn) (1.11.4)\n",
            "Requirement already satisfied: threadpoolctl>=2.0.0 in /usr/local/lib/python3.10/dist-packages (from scikit-learn->mglearn) (3.5.0)\n",
            "Requirement already satisfied: six>=1.5 in /usr/local/lib/python3.10/dist-packages (from python-dateutil>=2.7->matplotlib->mglearn) (1.16.0)\n",
            "Installing collected packages: mglearn\n",
            "Successfully installed mglearn-0.2.0\n"
          ]
        }
      ]
    },
    {
      "cell_type": "code",
      "source": [
        "#Question No 02 - Compute the mean relative error of actual and predicted dependent variable using the following formula. Write the code and output.\n",
        "# Formula: 𝑀𝑒𝑎𝑛 𝑅𝑒𝑙𝑎𝑡𝑖𝑣𝑒 𝐸𝑟𝑟𝑜𝑟 =1/N ∑ |𝑃𝑟𝑒𝑑𝑖𝑐𝑡𝑒𝑑 − 𝐴𝑐𝑡𝑢𝑎𝑙|/Actual\n",
        "\n",
        "import numpy as np\n",
        "\n",
        "from sklearn.linear_model import LinearRegression\n",
        "from sklearn.model_selection import train_test_split\n",
        "\n",
        "df = pd.read_csv('/content/sample_data/california_housing_train.csv')\n",
        "\n",
        "X = df[['total_rooms']]\n",
        "y = df['total_bedrooms']\n",
        "X_train, X_test, y_train, y_test = train_test_split(X,y, random_state = 42)\n",
        "lin = LinearRegression().fit(X_train,y_train)\n",
        "y_pred = lin.predict(X_test)\n",
        "print(f'Predict Lin: {np.round((y_pred),3)}')\n",
        "\n",
        "def mean_relative_error(y_test,y_pred):\n",
        "  a = np.mean(abs(y_pred - y_test)/y_test)\n",
        "  return a\n",
        "\n",
        "print('Mean Relative Error:', mean_relative_error(y_test,y_pred))"
      ],
      "metadata": {
        "colab": {
          "base_uri": "https://localhost:8080/"
        },
        "id": "ethT7fbysu7a",
        "outputId": "5e671c0a-6b89-4fba-d9cc-f1e9c595cc15"
      },
      "execution_count": 3,
      "outputs": [
        {
          "output_type": "stream",
          "name": "stdout",
          "text": [
            "Predict Lin: [936.74  558.314 732.181 ... 154.972 660.503 400.335]\n",
            "Mean Relative Error: 0.2517687090335994\n"
          ]
        }
      ]
    },
    {
      "cell_type": "code",
      "source": [
        "#Question No 03 - Compare the linear and kNN regressions on the basis of 𝑅2 and mean relative error for wave and California datasets\n",
        "\n",
        "from sklearn.linear_model import LinearRegression\n",
        "from sklearn.neighbors import KNeighborsRegressor\n",
        "from sklearn.model_selection import train_test_split\n",
        "import mglearn\n",
        "\n",
        "\n",
        "# Function for Mean Relative Error\n",
        "def mean_relative_error(y_test,y_pred):\n",
        "  a = np.mean(abs(y_pred - y_test)/y_test)\n",
        "  return a\n",
        "\n",
        "#USING WAVES DATASET\n",
        "\n",
        "#Linear Regression\n",
        "X, y = mglearn.datasets.make_wave(n_samples = 40)\n",
        "X_train, X_test, y_train, y_test = train_test_split(X,y, random_state=42)\n",
        "print('WAVES DATASET')\n",
        "\n",
        "LR1 = LinearRegression().fit(X_train, y_train)\n",
        "LR1_pred = LR1.predict(X_test)\n",
        "\n",
        "print('\\nLINEAR REGRESSION:')\n",
        "print(f'\\nPredicted LR1: {np.round(LR1_pred,3)}')\n",
        "print(f'LR1 R2: {LR1.score(X_test,y_test)}')\n",
        "print(f'LR1 MRE: {mean_relative_error(y_test,LR1_pred)}')\n",
        "\n",
        "#K Neighbors Regression\n",
        "KNR1 = KNeighborsRegressor(n_neighbors = 3).fit(X_train, y_train)\n",
        "KNR1_pred = KNR1.predict(X_test)\n",
        "\n",
        "print('\\nK NEIGHBORS REGRESSION:')\n",
        "print(f'\\nPredicted KNR1: {np.round(KNR1_pred,3)}')\n",
        "print(f'KNR1 R2:{KNR1.score(X_test,y_test)}')\n",
        "print(f'KNR1 MRE: {mean_relative_error(y_test,KNR1_pred)}')\n",
        "\n",
        "\n",
        "#USING CALIFORNIA DATASET\n",
        "\n",
        "df = pd.read_csv('/content/sample_data/california_housing_train.csv')\n",
        "\n",
        "X = df[['total_rooms']]\n",
        "y = df['total_bedrooms']\n",
        "X_train, X_test, y_train, y_test = train_test_split(X,y, random_state=42)\n",
        "print('\\nCALIFORNIA DATASET')\n",
        "\n",
        "#Linear Regression\n",
        "LR2 = LinearRegression().fit(X_train, y_train)\n",
        "LR2_pred = LR2.predict(X_test)\n",
        "\n",
        "print('\\nLINEAR REGRESSION:')\n",
        "print(f'\\nPredicted LR2: {np.round(LR2_pred,3)}')\n",
        "print(f'LR2 R2: {LR2.score(X_test,y_test)}')\n",
        "print(f'LR2 MRE: {mean_relative_error(y_test,LR2_pred)}')\n",
        "\n",
        "#K Neighbors Regression\n",
        "KNR2 = KNeighborsRegressor(n_neighbors = 3).fit(X_train, y_train)\n",
        "KNR2_pred = KNR2.predict(X_test)\n",
        "\n",
        "print('\\nK NEIGHBORS REGRESSION:')\n",
        "print(f'\\nPredicted KNR2: {np.round(KNR1_pred,3)}')\n",
        "print(f'KNR2 R2:{KNR2.score(X_test,y_test)}')\n",
        "print(f'KNR2 MRE: {mean_relative_error(y_test,KNR2_pred)}')\n"
      ],
      "metadata": {
        "colab": {
          "base_uri": "https://localhost:8080/"
        },
        "id": "TOis5hUmvP-H",
        "outputId": "9adc82f1-ccfc-49f6-a92e-3ec7e7f14c15"
      },
      "execution_count": 4,
      "outputs": [
        {
          "output_type": "stream",
          "name": "stdout",
          "text": [
            "WAVES DATASET\n",
            "\n",
            "LINEAR REGRESSION:\n",
            "\n",
            "Predicted LR1: [-0.699 -0.662 -1.009 -0.963 -1.088  0.858 -1.256 -0.058 -0.271 -1.37 ]\n",
            "LR1 R2: 0.7734719621006005\n",
            "LR1 MRE: 1.2183431897516208\n",
            "\n",
            "K NEIGHBORS REGRESSION:\n",
            "\n",
            "Predicted KNR1: [ 0.188  0.188 -2.077 -1.758 -1.894  1.446 -0.852 -0.359 -0.659 -0.83 ]\n",
            "KNR1 R2:0.2437997515208531\n",
            "KNR1 MRE: 0.7051265827689488\n",
            "\n",
            "CALIFORNIA DATASET\n",
            "\n",
            "LINEAR REGRESSION:\n",
            "\n",
            "Predicted LR2: [936.74  558.314 732.181 ... 154.972 660.503 400.335]\n",
            "LR2 R2: 0.8582656216645482\n",
            "LR2 MRE: 0.2517687090335994\n",
            "\n",
            "K NEIGHBORS REGRESSION:\n",
            "\n",
            "Predicted KNR2: [ 0.188  0.188 -2.077 -1.758 -1.894  1.446 -0.852 -0.359 -0.659 -0.83 ]\n",
            "KNR2 R2:0.8136768734959469\n",
            "KNR2 MRE: 0.2215463195077452\n"
          ]
        }
      ]
    },
    {
      "cell_type": "markdown",
      "source": [
        "Question No 4 - Differentiate between generalization, overfitting,and underfitting.\n",
        "\n",
        "**Generalization**\n",
        "\n",
        "Definition: Ability of a model to perform well on new, unseen data.\n",
        "\n",
        "Goal: Capture underlying patterns in data to make accurate predictions on real-world data.\n",
        "\n",
        "**Overfitting**\n",
        "\n",
        "Definition: Model performs well on training data but poorly on unseen data.\n",
        "\n",
        "Cause: Model is too complex, capturing noise and outliers.\n",
        "\n",
        "Indicators: High training accuracy, low validation/test accuracy.\n",
        "\n",
        "Solution: Simplify the model, use regularization, cross-validation, more training data.\n",
        "\n",
        "**Underfitting**\n",
        "\n",
        "Definition: Model performs poorly on both training and unseen data.\n",
        "\n",
        "Cause: Model is too simple, failing to capture underlying patterns.\n",
        "\n",
        "Indicators: Low training and validation/test accuracy.\n",
        "\n",
        "Solution: Use a more complex model, better feature engineering, parameter tuning."
      ],
      "metadata": {
        "id": "3lNSqEC2xOaY"
      }
    },
    {
      "cell_type": "code",
      "source": [
        "#Question No 05 - Analyze the kNN regression with k=1, 3, and 9 for wave and California datasets.\n",
        "\n",
        "#Waves Dataset\n",
        "\n",
        "X, y = mglearn.datasets.make_wave(n_samples = 40)\n",
        "X_train, X_test, y_train, y_test = train_test_split(X,y, random_state=42)\n",
        "print('Waves Dataset')\n",
        "\n",
        "KNR1 = KNeighborsRegressor(n_neighbors = 1).fit(X_train, y_train)\n",
        "KNR1_pred = KNR1.predict(X_test)\n",
        "print('\\nK = 1:')\n",
        "print(f'\\nPredicted KNR1: {np.round(KNR1_pred,3)}')\n",
        "print(f'KNR1 R2:{KNR1.score(X_test,y_test)}')\n",
        "print(f'KNR1 MRE: {mean_relative_error(y_test,KNR1_pred)}')\n",
        "\n",
        "KNR3 = KNeighborsRegressor(n_neighbors = 3).fit(X_train, y_train)\n",
        "KNR3_pred = KNR3.predict(X_test)\n",
        "print('\\nK = 3:')\n",
        "print(f'\\nPredicted KNR3: {np.round(KNR3_pred,3)}')\n",
        "print(f'KNR3 R2:{KNR3.score(X_test,y_test)}')\n",
        "print(f'KNR3 MRE: {mean_relative_error(y_test,KNR3_pred)}')\n",
        "\n",
        "KNR9 = KNeighborsRegressor(n_neighbors = 9).fit(X_train, y_train)\n",
        "KNR9_pred = KNR9.predict(X_test)\n",
        "print('\\nK = 9:')\n",
        "print(f'\\nPredicted KNR9: {np.round(KNR9_pred,3)}')\n",
        "print(f'KNR9 R2:{KNR9.score(X_test,y_test)}')\n",
        "print(f'KNR9 MRE: {mean_relative_error(y_test,KNR9_pred)}')\n",
        "\n",
        "\n",
        "#California Dataset\n",
        "\n",
        "X = df[['total_rooms']]\n",
        "y = df['total_bedrooms']\n",
        "X_train, X_test, y_train, y_test = train_test_split(X,y, random_state=42)\n",
        "print('\\nCALIFORNIA DATASET')\n",
        "\n",
        "KNR1 = KNeighborsRegressor(n_neighbors = 1).fit(X_train, y_train)\n",
        "KNR1_pred = KNR1.predict(X_test)\n",
        "print('\\nK = 1:')\n",
        "print(f'\\nPredicted KNR1: {np.round(KNR1_pred,3)}')\n",
        "print(f'KNR1 R2:{KNR1.score(X_test,y_test)}')\n",
        "print(f'KNR1 MRE: {mean_relative_error(y_test,KNR1_pred)}')\n",
        "\n",
        "KNR3 = KNeighborsRegressor(n_neighbors = 3).fit(X_train, y_train)\n",
        "KNR3_pred = KNR3.predict(X_test)\n",
        "print('\\nK = 3:')\n",
        "print(f'\\nPredicted KNR3: {np.round(KNR3_pred,3)}')\n",
        "print(f'KNR3 R2:{KNR3.score(X_test,y_test)}')\n",
        "print(f'KNR3 MRE: {mean_relative_error(y_test,KNR3_pred)}')\n",
        "\n",
        "KNR9 = KNeighborsRegressor(n_neighbors = 9).fit(X_train, y_train)\n",
        "KNR9_pred = KNR9.predict(X_test)\n",
        "print('\\nK = 9:')\n",
        "print(f'\\nPredicted KNR9: {np.round(KNR9_pred,3)}')\n",
        "print(f'KNR9 R2:{KNR9.score(X_test,y_test)}')\n",
        "print(f'KNR9 MRE: {mean_relative_error(y_test,KNR9_pred)}')"
      ],
      "metadata": {
        "colab": {
          "base_uri": "https://localhost:8080/"
        },
        "id": "ru8UPbxpzEqq",
        "outputId": "a003cfdd-ab01-4ecb-bedf-aee13ad99480"
      },
      "execution_count": 5,
      "outputs": [
        {
          "output_type": "stream",
          "name": "stdout",
          "text": [
            "Waves Dataset\n",
            "\n",
            "K = 1:\n",
            "\n",
            "Predicted KNR1: [ 0.373  0.095 -1.673 -1.514 -2.472  1.877 -0.474 -0.527 -0.541 -0.474]\n",
            "KNR1 R2:-0.08654700725736886\n",
            "KNR1 MRE: 0.4707413318856764\n",
            "\n",
            "K = 3:\n",
            "\n",
            "Predicted KNR3: [ 0.188  0.188 -2.077 -1.758 -1.894  1.446 -0.852 -0.359 -0.659 -0.83 ]\n",
            "KNR3 R2:0.2437997515208531\n",
            "KNR3 MRE: 0.7051265827689488\n",
            "\n",
            "K = 9:\n",
            "\n",
            "Predicted KNR9: [-0.908 -0.908 -1.092 -1.092 -1.221  0.985 -1.221 -0.086 -0.163 -1.221]\n",
            "KNR9 R2:0.6793301975906609\n",
            "KNR9 MRE: 1.3541084116455049\n",
            "\n",
            "CALIFORNIA DATASET\n",
            "\n",
            "K = 1:\n",
            "\n",
            "Predicted KNR1: [ 759.  491. 1106. ...  104.  548.  571.]\n",
            "KNR1 R2:0.7112450916595393\n",
            "KNR1 MRE: 0.2738759286361954\n",
            "\n",
            "K = 3:\n",
            "\n",
            "Predicted KNR3: [947.667 461.    772.    ... 107.667 543.667 542.667]\n",
            "KNR3 R2:0.8136768734959469\n",
            "KNR3 MRE: 0.2215463195077452\n",
            "\n",
            "K = 9:\n",
            "\n",
            "Predicted KNR9: [1028.222  561.222  782.222 ...  107.222  594.     476.556]\n",
            "KNR9 R2:0.8454078896439388\n",
            "KNR9 MRE: 0.2039986432522598\n"
          ]
        }
      ]
    },
    {
      "cell_type": "markdown",
      "source": [
        "Question No 06 - Study the impact of dataset variation on 𝑅2 score\n",
        "\n",
        "**Impact of Dataset Variation on R² Score**\n",
        "\n",
        "The R² score measures how well a regression model explains the variance in the dependent variable. It ranges from 0 to 1, with higher values indicating better performance. Dataset variations significantly affect the R² score.\n",
        "\n",
        "Key Factors:\n",
        "\n",
        "**Dataset Size:**\n",
        "\n",
        "Small Datasets: Lower and more volatile R² scores; risk of overfitting.\n",
        "\n",
        "Large Datasets: Higher and more stable R² scores; better generalization.\n",
        "\n",
        "**Data Quality:**\n",
        "\n",
        "Noisy Data: Lower R² scores due to obscured patterns.\n",
        "\n",
        "Clean Data: Higher R² scores with clear patterns.\n",
        "Feature Selection:\n",
        "\n",
        "Relevant Features: Higher R² scores by explaining more variance.\n",
        "\n",
        "Irrelevant Features: Lower R² scores due to added noise."
      ],
      "metadata": {
        "id": "BJlYgLarofV4"
      }
    },
    {
      "cell_type": "markdown",
      "source": [],
      "metadata": {
        "id": "3Xo6P4gewK-N"
      }
    }
  ]
}