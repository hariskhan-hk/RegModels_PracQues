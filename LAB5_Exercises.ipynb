{
  "nbformat": 4,
  "nbformat_minor": 0,
  "metadata": {
    "colab": {
      "provenance": [],
      "authorship_tag": "ABX9TyNu8hvOAWuDh4krxdciX4mT",
      "include_colab_link": true
    },
    "kernelspec": {
      "name": "python3",
      "display_name": "Python 3"
    },
    "language_info": {
      "name": "python"
    }
  },
  "cells": [
    {
      "cell_type": "markdown",
      "metadata": {
        "id": "view-in-github",
        "colab_type": "text"
      },
      "source": [
        "<a href=\"https://colab.research.google.com/github/hariskhan-hk/RegModels_PracQues/blob/main/LAB5_Exercises.ipynb\" target=\"_parent\"><img src=\"https://colab.research.google.com/assets/colab-badge.svg\" alt=\"Open In Colab\"/></a>"
      ]
    },
    {
      "cell_type": "code",
      "execution_count": 5,
      "metadata": {
        "id": "qbmjqZZOnCse"
      },
      "outputs": [],
      "source": [
        "import numpy as np\n",
        "import pandas as pd\n",
        "from sklearn.linear_model import LinearRegression\n",
        "from sklearn.neighbors import KNeighborsRegressor\n",
        "from sklearn.model_selection import train_test_split"
      ]
    },
    {
      "cell_type": "code",
      "source": [
        "pip install mglearn"
      ],
      "metadata": {
        "colab": {
          "base_uri": "https://localhost:8080/"
        },
        "id": "BrTKOYVNnHUC",
        "outputId": "35bfac50-4e54-4c19-933e-0e38658f0f65"
      },
      "execution_count": 10,
      "outputs": [
        {
          "output_type": "stream",
          "name": "stdout",
          "text": [
            "Requirement already satisfied: mglearn in /usr/local/lib/python3.10/dist-packages (0.2.0)\n",
            "Requirement already satisfied: numpy in /usr/local/lib/python3.10/dist-packages (from mglearn) (1.25.2)\n",
            "Requirement already satisfied: matplotlib in /usr/local/lib/python3.10/dist-packages (from mglearn) (3.7.1)\n",
            "Requirement already satisfied: scikit-learn in /usr/local/lib/python3.10/dist-packages (from mglearn) (1.2.2)\n",
            "Requirement already satisfied: pandas in /usr/local/lib/python3.10/dist-packages (from mglearn) (2.0.3)\n",
            "Requirement already satisfied: pillow in /usr/local/lib/python3.10/dist-packages (from mglearn) (9.4.0)\n",
            "Requirement already satisfied: cycler in /usr/local/lib/python3.10/dist-packages (from mglearn) (0.12.1)\n",
            "Requirement already satisfied: imageio in /usr/local/lib/python3.10/dist-packages (from mglearn) (2.31.6)\n",
            "Requirement already satisfied: joblib in /usr/local/lib/python3.10/dist-packages (from mglearn) (1.4.2)\n",
            "Requirement already satisfied: contourpy>=1.0.1 in /usr/local/lib/python3.10/dist-packages (from matplotlib->mglearn) (1.2.1)\n",
            "Requirement already satisfied: fonttools>=4.22.0 in /usr/local/lib/python3.10/dist-packages (from matplotlib->mglearn) (4.53.0)\n",
            "Requirement already satisfied: kiwisolver>=1.0.1 in /usr/local/lib/python3.10/dist-packages (from matplotlib->mglearn) (1.4.5)\n",
            "Requirement already satisfied: packaging>=20.0 in /usr/local/lib/python3.10/dist-packages (from matplotlib->mglearn) (24.0)\n",
            "Requirement already satisfied: pyparsing>=2.3.1 in /usr/local/lib/python3.10/dist-packages (from matplotlib->mglearn) (3.1.2)\n",
            "Requirement already satisfied: python-dateutil>=2.7 in /usr/local/lib/python3.10/dist-packages (from matplotlib->mglearn) (2.8.2)\n",
            "Requirement already satisfied: pytz>=2020.1 in /usr/local/lib/python3.10/dist-packages (from pandas->mglearn) (2023.4)\n",
            "Requirement already satisfied: tzdata>=2022.1 in /usr/local/lib/python3.10/dist-packages (from pandas->mglearn) (2024.1)\n",
            "Requirement already satisfied: scipy>=1.3.2 in /usr/local/lib/python3.10/dist-packages (from scikit-learn->mglearn) (1.11.4)\n",
            "Requirement already satisfied: threadpoolctl>=2.0.0 in /usr/local/lib/python3.10/dist-packages (from scikit-learn->mglearn) (3.5.0)\n",
            "Requirement already satisfied: six>=1.5 in /usr/local/lib/python3.10/dist-packages (from python-dateutil>=2.7->matplotlib->mglearn) (1.16.0)\n"
          ]
        }
      ]
    },
    {
      "cell_type": "code",
      "source": [
        "import mglearn\n",
        "X,y = mglearn.datasets.make_wave(n_samples =  50)\n",
        "X_train, X_test, y_train, y_test = train_test_split(X,y, random_state=42)\n",
        "lin = LinearRegression().fit(X_train,y_train)\n",
        "reg = KNeighborsRegressor(n_neighbors=5).fit(X_train,y_train)\n",
        "print(f'Testlin: {lin.predict(X_test)}')\n",
        "print(f'\\nTestreg:{reg.predict(X_test)}')\n",
        "\n",
        "print(f'scorelin: {lin.score(X_test,y_test)}')\n",
        "print(f'scorereg: {reg.score(X_test,y_test)}')"
      ],
      "metadata": {
        "colab": {
          "base_uri": "https://localhost:8080/"
        },
        "id": "1WEUKskopSAT",
        "outputId": "08df3216-c366-483c-efee-609b55d142d7"
      },
      "execution_count": 24,
      "outputs": [
        {
          "output_type": "stream",
          "name": "stdout",
          "text": [
            "Testlin: [-0.71613761 -0.16063735  0.24753224  0.38158924  0.04566092  0.0991932\n",
            " -0.74702075  0.68066802 -1.07528355 -0.52377212  0.79592311 -0.85346947\n",
            " -0.99574166]\n",
            "\n",
            "Testreg:[-0.93450589 -0.32598908  0.51818783  0.19926662  0.39423313  0.5252648\n",
            " -1.12674117  0.68045775 -0.94050112 -0.3505486   1.28725249 -1.1978419\n",
            " -1.41441977]\n",
            "scorelin: 0.5675233149169006\n",
            "scorereg: 0.7092890070879156\n"
          ]
        }
      ]
    },
    {
      "cell_type": "code",
      "source": [
        "#Question No 02\n",
        "\n",
        "import numpy as np\n",
        "import pandas as pd\n",
        "from sklearn.linear_model import LinearRegression\n",
        "from sklearn.model_selection import train_test_split\n",
        "\n",
        "df = pd.read_csv('/content/sample_data/california_housing_train.csv')\n",
        "\n",
        "X = df[['total_rooms']]\n",
        "y = df['total_bedrooms']\n",
        "\n",
        "X_train, X_test, y_train, y_test = train_test_split(X,y, random_state = 42, test_size = 0.2)\n",
        "lin = LinearRegression().fit(X_train,y_train)\n",
        "y_pred = lin.predict(X_test)\n",
        "\n",
        "print(f'Testlin: {np.round((y_pred),2)}')\n",
        "print(f'\\nScore:{lin.score(X_test,y_test)}')\n",
        "\n",
        "def mean_relative_error(y_test,y_pred):\n",
        "  a = np.mean(abs(y_pred - y_test)/y_test)\n",
        "  return a\n",
        "\n",
        "print('Mean Relative Error:', mean_relative_error(y_test,y_pred))"
      ],
      "metadata": {
        "colab": {
          "base_uri": "https://localhost:8080/"
        },
        "id": "ethT7fbysu7a",
        "outputId": "e05f04a8-818a-4bd3-96af-85ef81e635c0"
      },
      "execution_count": 70,
      "outputs": [
        {
          "output_type": "stream",
          "name": "stdout",
          "text": [
            "Testlin: [936.17 558.05 731.78 ...  85.21 138.61 103.61]\n",
            "\n",
            "Score:0.8595356105199108\n",
            "Mean Relative Error: 0.2543903460287548\n"
          ]
        }
      ]
    },
    {
      "cell_type": "code",
      "source": [
        "# #Question No 03\n",
        "\n",
        "# from sklearn.neighbors import KNeighborsRegressor\n",
        "# from sklearn.linear_model import LinearRegression\n",
        "# from sklearn.model_selection import train_test_split\n",
        "\n",
        "# # Xm, ym = mglearn.datasets.make_wave(n_samples = 40)\n",
        "# df = pd.read_csv('/content/sample_data/california_housing_train.csv')\n",
        "\n",
        "# X = df[['total_rooms']]\n",
        "# y = df['total_bedrooms']\n",
        "\n",
        "# X_train, X_test, y_train, y_test = train_test_split(X,y, random_state=42, test_size = 0.2)\n",
        "# Knr = KNeighborsRegressor(n_neighbors = 3).fit(X_train, y_train)\n",
        "# y_pred = Knr.predict(X_test)\n",
        "# print('Predicted Y:', y_pred)\n",
        "# print(Knr.score(y_pred,y_test))"
      ],
      "metadata": {
        "id": "TOis5hUmvP-H"
      },
      "execution_count": 71,
      "outputs": []
    },
    {
      "cell_type": "code",
      "source": [],
      "metadata": {
        "id": "TppA0dJS1MQd"
      },
      "execution_count": null,
      "outputs": []
    }
  ]
}