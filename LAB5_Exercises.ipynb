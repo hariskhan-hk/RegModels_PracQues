{
  "nbformat": 4,
  "nbformat_minor": 0,
  "metadata": {
    "colab": {
      "provenance": [],
      "authorship_tag": "ABX9TyNUPNixhWe3AgBkK/lD89nH",
      "include_colab_link": true
    },
    "kernelspec": {
      "name": "python3",
      "display_name": "Python 3"
    },
    "language_info": {
      "name": "python"
    }
  },
  "cells": [
    {
      "cell_type": "markdown",
      "metadata": {
        "id": "view-in-github",
        "colab_type": "text"
      },
      "source": [
        "<a href=\"https://colab.research.google.com/github/hariskhan-hk/RegModels_PracQues/blob/main/LAB5_Exercises.ipynb\" target=\"_parent\"><img src=\"https://colab.research.google.com/assets/colab-badge.svg\" alt=\"Open In Colab\"/></a>"
      ]
    },
    {
      "cell_type": "code",
      "execution_count": 43,
      "metadata": {
        "id": "qbmjqZZOnCse"
      },
      "outputs": [],
      "source": [
        "import numpy as np\n",
        "import pandas as pd\n",
        "from sklearn.linear_model import LinearRegression\n",
        "from sklearn.neighbors import KNeighborsRegressor\n",
        "from sklearn.model_selection import train_test_split"
      ]
    },
    {
      "cell_type": "code",
      "source": [
        "pip install mglearn"
      ],
      "metadata": {
        "colab": {
          "base_uri": "https://localhost:8080/"
        },
        "id": "BrTKOYVNnHUC",
        "outputId": "3f5ea3fd-5140-4876-89b3-3bd348e6251a"
      },
      "execution_count": 44,
      "outputs": [
        {
          "output_type": "stream",
          "name": "stdout",
          "text": [
            "Requirement already satisfied: mglearn in /usr/local/lib/python3.10/dist-packages (0.2.0)\n",
            "Requirement already satisfied: numpy in /usr/local/lib/python3.10/dist-packages (from mglearn) (1.25.2)\n",
            "Requirement already satisfied: matplotlib in /usr/local/lib/python3.10/dist-packages (from mglearn) (3.7.1)\n",
            "Requirement already satisfied: scikit-learn in /usr/local/lib/python3.10/dist-packages (from mglearn) (1.2.2)\n",
            "Requirement already satisfied: pandas in /usr/local/lib/python3.10/dist-packages (from mglearn) (2.0.3)\n",
            "Requirement already satisfied: pillow in /usr/local/lib/python3.10/dist-packages (from mglearn) (9.4.0)\n",
            "Requirement already satisfied: cycler in /usr/local/lib/python3.10/dist-packages (from mglearn) (0.12.1)\n",
            "Requirement already satisfied: imageio in /usr/local/lib/python3.10/dist-packages (from mglearn) (2.31.6)\n",
            "Requirement already satisfied: joblib in /usr/local/lib/python3.10/dist-packages (from mglearn) (1.4.2)\n",
            "Requirement already satisfied: contourpy>=1.0.1 in /usr/local/lib/python3.10/dist-packages (from matplotlib->mglearn) (1.2.1)\n",
            "Requirement already satisfied: fonttools>=4.22.0 in /usr/local/lib/python3.10/dist-packages (from matplotlib->mglearn) (4.53.0)\n",
            "Requirement already satisfied: kiwisolver>=1.0.1 in /usr/local/lib/python3.10/dist-packages (from matplotlib->mglearn) (1.4.5)\n",
            "Requirement already satisfied: packaging>=20.0 in /usr/local/lib/python3.10/dist-packages (from matplotlib->mglearn) (24.0)\n",
            "Requirement already satisfied: pyparsing>=2.3.1 in /usr/local/lib/python3.10/dist-packages (from matplotlib->mglearn) (3.1.2)\n",
            "Requirement already satisfied: python-dateutil>=2.7 in /usr/local/lib/python3.10/dist-packages (from matplotlib->mglearn) (2.8.2)\n",
            "Requirement already satisfied: pytz>=2020.1 in /usr/local/lib/python3.10/dist-packages (from pandas->mglearn) (2023.4)\n",
            "Requirement already satisfied: tzdata>=2022.1 in /usr/local/lib/python3.10/dist-packages (from pandas->mglearn) (2024.1)\n",
            "Requirement already satisfied: scipy>=1.3.2 in /usr/local/lib/python3.10/dist-packages (from scikit-learn->mglearn) (1.11.4)\n",
            "Requirement already satisfied: threadpoolctl>=2.0.0 in /usr/local/lib/python3.10/dist-packages (from scikit-learn->mglearn) (3.5.0)\n",
            "Requirement already satisfied: six>=1.5 in /usr/local/lib/python3.10/dist-packages (from python-dateutil>=2.7->matplotlib->mglearn) (1.16.0)\n"
          ]
        }
      ]
    },
    {
      "cell_type": "code",
      "source": [
        "#Question No 02 - Compute the mean relative error of actual and predicted dependent variable using the following formula. Write the code and output.\n",
        "# Formula: 𝑀𝑒𝑎𝑛 𝑅𝑒𝑙𝑎𝑡𝑖𝑣𝑒 𝐸𝑟𝑟𝑜𝑟 =1/N ∑ |𝑃𝑟𝑒𝑑𝑖𝑐𝑡𝑒𝑑 − 𝐴𝑐𝑡𝑢𝑎𝑙|/Actual\n",
        "\n",
        "import numpy as np\n",
        "import pandas as pd\n",
        "from sklearn.linear_model import LinearRegression\n",
        "from sklearn.model_selection import train_test_split\n",
        "\n",
        "df = pd.read_csv('/content/sample_data/california_housing_train.csv')\n",
        "\n",
        "X = df[['total_rooms']]\n",
        "y = df['total_bedrooms']\n",
        "\n",
        "X_train, X_test, y_train, y_test = train_test_split(X,y, random_state = 42, test_size = 0.2)\n",
        "lin = LinearRegression().fit(X_train,y_train)\n",
        "y_pred = lin.predict(X_test)\n",
        "\n",
        "print(f'Testlin: {np.round((y_pred),2)}')\n",
        "\n",
        "def mean_relative_error(y_test,y_pred):\n",
        "  a = np.mean(abs(y_pred - y_test)/y_test)\n",
        "  return a\n",
        "\n",
        "print('Mean Relative Error:', mean_relative_error(y_test,y_pred))"
      ],
      "metadata": {
        "colab": {
          "base_uri": "https://localhost:8080/"
        },
        "id": "ethT7fbysu7a",
        "outputId": "2d6162f1-5623-4c67-ac43-ae27d000eadc"
      },
      "execution_count": 45,
      "outputs": [
        {
          "output_type": "stream",
          "name": "stdout",
          "text": [
            "Testlin: [936.17 558.05 731.78 ...  85.21 138.61 103.61]\n",
            "Mean Relative Error: 0.2543903460287548\n"
          ]
        }
      ]
    },
    {
      "cell_type": "code",
      "source": [
        "#Question No 03 - Compare the linear and kNN regressions on the basis of 𝑅2 and mean relative error for wave and California datasets\n",
        "\n",
        "from sklearn.linear_model import LinearRegression\n",
        "from sklearn.neighbors import KNeighborsRegressor\n",
        "from sklearn.model_selection import train_test_split\n",
        "import mglearn\n",
        "\n",
        "\n",
        "# Function for Mean Relative Error\n",
        "def mean_relative_error(y_test,y_pred):\n",
        "  a = np.mean(abs(y_pred - y_test)/y_test)\n",
        "  return a\n",
        "\n",
        "#USING WAVES DATASET\n",
        "\n",
        "#Linear Regression\n",
        "X, y = mglearn.datasets.make_wave(n_samples = 40)\n",
        "X_train, X_test, y_train, y_test = train_test_split(X,y, random_state=42)\n",
        "\n",
        "LR1 = LinearRegression().fit(X_train, y_train)\n",
        "LR1_pred = LR1.predict(X_test)\n",
        "print(f'Predicted LR1: {LR1_pred}')\n",
        "print(f'\\nLR1 R2: {LR1.score(X_test,y_test)}')\n",
        "print(f'\\nLR1 MRE: {mean_relative_error(y_test,LR1_pred)}')\n",
        "\n",
        "#K Neighbors Regression\n",
        "KNR1 = KNeighborsRegressor(n_neighbors = 3).fit(X_train, y_train)\n",
        "KNR1_pred = KNR1.predict(X_test)\n",
        "print(f'\\nPredicted KNR1: {KNR1_pred}')\n",
        "print(f'\\nKNR1 R2:{KNR1.score(X_test,y_test)}')\n",
        "print(f'\\nKNR1 MRE: {mean_relative_error(y_test,KNR1_pred)}')\n",
        "\n",
        "\n",
        "#USING CALIFORNIA DATASET\n",
        "\n",
        "df = pd.read_csv('/content/sample_data/california_housing_train.csv')\n",
        "\n",
        "X = df[['total_rooms']]\n",
        "y = df['total_bedrooms']\n",
        "X_train, X_test, y_train, y_test = train_test_split(X,y, random_state=42)\n",
        "\n",
        "#Linear Regression\n",
        "LR2 = LinearRegression().fit(X_train, y_train)\n",
        "LR2_pred = LR2.predict(X_test)\n",
        "print(f'Predicted LR2: {LR2_pred}')\n",
        "print(f'\\nLR2 R2: {LR2.score(X_test,y_test)}')\n",
        "print(f'\\nLR2 MRE: {mean_relative_error(y_test,LR2_pred)}')\n",
        "\n",
        "#K Neighbors Regression\n",
        "KNR2 = KNeighborsRegressor(n_neighbors = 3).fit(X_train, y_train)\n",
        "KNR2_pred = KNR2.predict(X_test)\n",
        "print(f'\\nPredicted KNR2: {KNR1_pred}')\n",
        "print(f'\\nKNR2 R2:{KNR2.score(X_test,y_test)}')\n",
        "print(f'\\nKNR2 MRE: {mean_relative_error(y_test,KNR2_pred)}')\n"
      ],
      "metadata": {
        "colab": {
          "base_uri": "https://localhost:8080/"
        },
        "id": "TOis5hUmvP-H",
        "outputId": "75077c16-b270-49ca-9604-764b3df29d5a"
      },
      "execution_count": 46,
      "outputs": [
        {
          "output_type": "stream",
          "name": "stdout",
          "text": [
            "Predicted LR1: [-0.69917027 -0.66172804 -1.009411   -0.96259989 -1.08820758  0.85804788\n",
            " -1.25608637 -0.0575235  -0.27067736 -1.36999324]\n",
            "\n",
            "LR1 R2: 0.7734719621006005\n",
            "\n",
            "LR1 MRE: 1.2183431897516208\n",
            "\n",
            "Predicted KNR1: [ 0.18836016  0.18836016 -2.07693788 -1.75751624 -1.89415682  1.44592491\n",
            " -0.85177421 -0.35898987 -0.65851598 -0.8301424 ]\n",
            "\n",
            "KNR1 R2:0.2437997515208531\n",
            "\n",
            "KNR1 MRE: 0.7051265827689488\n",
            "Predicted LR2: [936.74025546 558.31373605 732.18050045 ... 154.97173015 660.50334005\n",
            " 400.33510795]\n",
            "\n",
            "LR2 R2: 0.8582656216645482\n",
            "\n",
            "LR2 MRE: 0.2517687090335994\n",
            "\n",
            "Predicted KNR2: [ 0.18836016  0.18836016 -2.07693788 -1.75751624 -1.89415682  1.44592491\n",
            " -0.85177421 -0.35898987 -0.65851598 -0.8301424 ]\n",
            "\n",
            "KNR2 R2:0.8136768734959469\n",
            "\n",
            "KNR2 MRE: 0.2215463195077452\n"
          ]
        }
      ]
    },
    {
      "cell_type": "markdown",
      "source": [
        "QUESTION NO 4 - Differentiate between generalization, overfitting,and underfitting.\n",
        "\n",
        "**Generalization**\n",
        "\n",
        "Definition: Ability of a model to perform well on new, unseen data.\n",
        "\n",
        "Goal: Capture underlying patterns in data to make accurate predictions on real-world data.\n",
        "\n",
        "**Overfitting**\n",
        "\n",
        "Definition: Model performs well on training data but poorly on unseen data.\n",
        "\n",
        "Cause: Model is too complex, capturing noise and outliers.\n",
        "\n",
        "Indicators: High training accuracy, low validation/test accuracy.\n",
        "\n",
        "Solution: Simplify the model, use regularization, cross-validation, more training data.\n",
        "\n",
        "**Underfitting**\n",
        "\n",
        "Definition: Model performs poorly on both training and unseen data.\n",
        "\n",
        "Cause: Model is too simple, failing to capture underlying patterns.\n",
        "\n",
        "Indicators: Low training and validation/test accuracy.\n",
        "\n",
        "Solution: Use a more complex model, better feature engineering, parameter tuning."
      ],
      "metadata": {
        "id": "3lNSqEC2xOaY"
      }
    }
  ]
}